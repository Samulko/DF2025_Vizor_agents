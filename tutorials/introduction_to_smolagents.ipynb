{
 "cells": [
  {
   "cell_type": "markdown",
   "metadata": {},
   "source": [
    "# Introduction to Smolagents: Building a Bridge Reference Agent\n",
    "\n",
    "Welcome to this hands-on introduction to the **smolagents** framework! In this notebook, you'll learn how to create AI agents that can search for information about bridges, preparing you for building more complex bridge design agents.\n",
    "\n",
    "## What You'll Learn\n",
    "1. Understanding AI agents and the smolagents framework\n",
    "2. The difference between CodeAgent and ToolCallingAgent\n",
    "3. Using built-in tools like web search\n",
    "4. Creating custom tools\n",
    "5. Building your own Bridge Reference Agent\n",
    "6. Integrating agents into larger systems\n",
    "\n",
    "Let's start by installing the necessary packages:"
   ]
  },
  {
   "cell_type": "code",
   "execution_count": null,
   "metadata": {},
   "outputs": [],
   "source": [
    "# Install smolagents with toolkit support for web search\n",
    "!pip install smolagents[toolkit] -q"
   ]
  },
  {
   "cell_type": "markdown",
   "metadata": {},
   "source": [
    "## Part 1: Introduction to Smolagents\n",
    "\n",
    "### What are AI Agents?\n",
    "\n",
    "AI agents are autonomous systems that can:\n",
    "- Understand tasks given in natural language\n",
    "- Break down complex problems into steps\n",
    "- Use tools to gather information or perform actions\n",
    "- Reason about the results and provide answers\n",
    "\n",
    "### The Smolagents Framework\n",
    "\n",
    "Smolagents is a lightweight framework by Hugging Face that makes it easy to build AI agents. It provides:\n",
    "- Simple decorators to create tools\n",
    "- Two types of agents with different capabilities\n",
    "- Built-in tools for common tasks\n",
    "- Easy integration with various language models"
   ]
  },
  {
   "cell_type": "code",
   "execution_count": null,
   "metadata": {},
   "outputs": [],
   "source": [
    "# Import the essentials\n",
    "from smolagents import CodeAgent, ToolCallingAgent, InferenceClientModel, tool\n",
    "\n",
    "# Initialize a language model (using Hugging Face's inference API)\n",
    "# You'll need to set your HF_TOKEN environment variable or pass it here\n",
    "model = InferenceClientModel()\n",
    "\n",
    "print(\"Smolagents is ready to use!\")"
   ]
  },
  {
   "cell_type": "markdown",
   "metadata": {},
   "source": [
    "### Two Types of Agents\n",
    "\n",
    "Smolagents offers two agent types, each with different strengths:\n",
    "\n",
    "#### 1. **CodeAgent**\n",
    "- Writes and executes Python code to solve tasks\n",
    "- Can perform complex calculations and data manipulation\n",
    "- More flexible but requires careful prompt engineering\n",
    "- Outputs look like: `result = search_tool(\"query\")`\n",
    "\n",
    "#### 2. **ToolCallingAgent**\n",
    "- Makes structured JSON tool calls\n",
    "- More predictable and easier to control\n",
    "- Better for production systems\n",
    "- Outputs look like: `{\"tool_call\": {\"name\": \"search_tool\", \"arguments\": {\"query\": \"...\"}}}`\n",
    "\n",
    "Let's see both in action:"
   ]
  },
  {
   "cell_type": "code",
   "execution_count": null,
   "metadata": {},
   "outputs": [],
   "source": [
    "# Example 1: CodeAgent - writes Python code\n",
    "code_agent = CodeAgent(tools=[], model=model)\n",
    "result = code_agent.run(\"Calculate the golden ratio (1 + sqrt(5)) / 2\")\n",
    "print(f\"CodeAgent result: {result}\")\n",
    "\n",
    "print(\"\\n\" + \"=\"*50 + \"\\n\")\n",
    "\n",
    "# Example 2: ToolCallingAgent - makes structured calls\n",
    "# (This will fail without tools, but shows the attempt)\n",
    "tool_agent = ToolCallingAgent(tools=[], model=model)\n",
    "try:\n",
    "    result = tool_agent.run(\"What is the golden ratio?\")\n",
    "except Exception as e:\n",
    "    print(f\"ToolCallingAgent needs tools to work: {e}\")"
   ]
  },
  {
   "cell_type": "markdown",
   "metadata": {},
   "source": [
    "## Part 2: Using Built-in Tools\n",
    "\n",
    "Smolagents comes with several built-in tools. The most useful for our bridge reference agent is the **WebSearchTool**, which uses DuckDuckGo to search the internet.\n",
    "\n",
    "### Direct Tool Usage\n",
    "\n",
    "Before giving tools to agents, let's understand how they work by using them directly:"
   ]
  },
  {
   "cell_type": "code",
   "execution_count": null,
   "metadata": {},
   "outputs": [],
   "source": [
    "from smolagents import WebSearchTool\n",
    "\n",
    "# Create an instance of the web search tool\n",
    "search_tool = WebSearchTool()\n",
    "\n",
    "# Use it directly to search for bridge information\n",
    "results = search_tool(\"Golden Gate Bridge specifications length\")\n",
    "print(\"Search results:\")\n",
    "print(results[:500] + \"...\" if len(results) > 500 else results)"
   ]
  },
  {
   "cell_type": "markdown",
   "metadata": {},
   "source": [
    "### Giving Tools to Agents\n",
    "\n",
    "Now let's give the search tool to our agents and see how they use it differently:"
   ]
  },
  {
   "cell_type": "code",
   "execution_count": null,
   "metadata": {},
   "outputs": [],
   "source": [
    "# CodeAgent with web search\n",
    "code_agent_with_search = CodeAgent(\n",
    "    tools=[search_tool], \n",
    "    model=model,\n",
    "    verbosity_level=2  # Show what the agent is doing\n",
    ")\n",
    "\n",
    "print(\"=== CodeAgent with WebSearchTool ===\")\n",
    "result = code_agent_with_search.run(\n",
    "    \"Find the length of the Golden Gate Bridge\"\n",
    ")\n",
    "print(f\"\\nFinal answer: {result}\")"
   ]
  },
  {
   "cell_type": "code",
   "execution_count": null,
   "metadata": {},
   "outputs": [],
   "source": [
    "# ToolCallingAgent with web search\n",
    "tool_agent_with_search = ToolCallingAgent(\n",
    "    tools=[search_tool], \n",
    "    model=model,\n",
    "    verbosity_level=2\n",
    ")\n",
    "\n",
    "print(\"=== ToolCallingAgent with WebSearchTool ===\")\n",
    "result = tool_agent_with_search.run(\n",
    "    \"Find the length of the Golden Gate Bridge\"\n",
    ")\n",
    "print(f\"\\nFinal answer: {result}\")"
   ]
  },
  {
   "cell_type": "markdown",
   "metadata": {},
   "source": [
    "## Part 3: Creating Custom Bridge Tools\n",
    "\n",
    "While WebSearchTool is great, we can create specialized tools for our bridge domain. Let's learn how to create tools using the `@tool` decorator.\n",
    "\n",
    "### Anatomy of a Tool\n",
    "\n",
    "Every tool needs:\n",
    "1. A **name** - unique identifier\n",
    "2. A **description** - tells the agent when to use it\n",
    "3. **Input parameters** with type hints\n",
    "4. An **output type**\n",
    "5. A docstring with an **Args:** section"
   ]
  },
  {
   "cell_type": "code",
   "execution_count": null,
   "metadata": {},
   "outputs": [],
   "source": [
    "# Create a specialized bridge information tool\n",
    "@tool\n",
    "def search_bridge_info(bridge_name: str) -> str:\n",
    "    \"\"\"\n",
    "    Search for detailed information about a specific bridge including \n",
    "    its specifications, history, and engineering details.\n",
    "    \n",
    "    Args:\n",
    "        bridge_name: The name of the bridge to search for\n",
    "    \"\"\"\n",
    "    # We'll use the WebSearchTool internally but add bridge-specific context\n",
    "    search = WebSearchTool()\n",
    "    query = f\"{bridge_name} bridge specifications history engineering length height type material\"\n",
    "    return search(query)\n",
    "\n",
    "# Test the tool directly\n",
    "result = search_bridge_info(\"Brooklyn Bridge\")\n",
    "print(result[:500] + \"...\")"
   ]
  },
  {
   "cell_type": "code",
   "execution_count": null,
   "metadata": {},
   "outputs": [],
   "source": [
    "# Create a tool to find bridges by type\n",
    "@tool\n",
    "def find_bridges_by_type(bridge_type: str, region: str = \"worldwide\") -> str:\n",
    "    \"\"\"\n",
    "    Find examples of bridges of a specific type in a given region.\n",
    "    \n",
    "    Args:\n",
    "        bridge_type: Type of bridge (e.g., suspension, arch, beam, cable-stayed, truss)\n",
    "        region: Geographic region to search in (default: worldwide)\n",
    "    \"\"\"\n",
    "    search = WebSearchTool()\n",
    "    query = f\"famous {bridge_type} bridges {region} examples list\"\n",
    "    return search(query)\n",
    "\n",
    "# Test finding suspension bridges\n",
    "suspension_bridges = find_bridges_by_type(\"suspension\", \"USA\")\n",
    "print(\"Suspension bridges in USA:\")\n",
    "print(suspension_bridges[:500] + \"...\")"
   ]
  },
  {
   "cell_type": "code",
   "execution_count": null,
   "metadata": {},
   "outputs": [],
   "source": [
    "# Create a tool to compare bridge spans\n",
    "@tool\n",
    "def compare_bridge_spans(bridge1: str, bridge2: str) -> str:\n",
    "    \"\"\"\n",
    "    Compare the main span lengths of two bridges.\n",
    "    \n",
    "    Args:\n",
    "        bridge1: Name of the first bridge\n",
    "        bridge2: Name of the second bridge\n",
    "    \"\"\"\n",
    "    search = WebSearchTool()\n",
    "    # Search for both bridges\n",
    "    info1 = search(f\"{bridge1} bridge main span length meters\")\n",
    "    info2 = search(f\"{bridge2} bridge main span length meters\")\n",
    "    \n",
    "    return f\"Information about {bridge1}:\\n{info1[:300]}\\n\\nInformation about {bridge2}:\\n{info2[:300]}\"\n",
    "\n",
    "# Test comparison\n",
    "comparison = compare_bridge_spans(\"Golden Gate Bridge\", \"Brooklyn Bridge\")\n",
    "print(comparison)"
   ]
  },
  {
   "cell_type": "markdown",
   "metadata": {},
   "source": [
    "## Part 4: Building the Bridge Reference Agent\n",
    "\n",
    "Now let's combine our custom tools into a proper Bridge Reference Agent. We'll create both CodeAgent and ToolCallingAgent versions to see the differences."
   ]
  },
  {
   "cell_type": "code",
   "execution_count": null,
   "metadata": {},
   "outputs": [],
   "source": [
    "# Collect all our bridge tools\n",
    "bridge_tools = [\n",
    "    search_bridge_info,\n",
    "    find_bridges_by_type,\n",
    "    compare_bridge_spans,\n",
    "    WebSearchTool()  # Keep general search as fallback\n",
    "]\n",
    "\n",
    "# Create a CodeAgent version\n",
    "bridge_agent_code = CodeAgent(\n",
    "    tools=bridge_tools,\n",
    "    model=model,\n",
    "    verbosity_level=1,\n",
    "    max_steps=5\n",
    ")\n",
    "\n",
    "print(\"Bridge Reference Agent (CodeAgent) is ready!\")"
   ]
  },
  {
   "cell_type": "code",
   "execution_count": null,
   "metadata": {},
   "outputs": [],
   "source": [
    "# Test the CodeAgent with a complex query\n",
    "result = bridge_agent_code.run(\n",
    "    \"Find me three examples of suspension bridges built after 2000 and tell me their main span lengths\"\n",
    ")\n",
    "print(\"\\n=== FINAL RESULT ===\")\n",
    "print(result)"
   ]
  },
  {
   "cell_type": "code",
   "execution_count": null,
   "metadata": {},
   "outputs": [],
   "source": [
    "# Create a ToolCallingAgent version\n",
    "bridge_agent_tool = ToolCallingAgent(\n",
    "    tools=bridge_tools,\n",
    "    model=model,\n",
    "    verbosity_level=1,\n",
    "    max_steps=5\n",
    ")\n",
    "\n",
    "# Test with the same query\n",
    "result = bridge_agent_tool.run(\n",
    "    \"What type of bridge is the Tower Bridge in London and when was it built?\"\n",
    ")\n",
    "print(\"\\n=== FINAL RESULT ===\")\n",
    "print(result)"
   ]
  },
  {
   "cell_type": "markdown",
   "metadata": {},
   "source": [
    "### Comparing Agent Behaviors\n",
    "\n",
    "Let's see how each agent type handles the same task differently:"
   ]
  },
  {
   "cell_type": "code",
   "execution_count": null,
   "metadata": {},
   "outputs": [],
   "source": [
    "# Simple comparison task\n",
    "task = \"Which has a longer span: Golden Gate Bridge or Akashi Kaikyo Bridge?\"\n",
    "\n",
    "print(\"=== CodeAgent Approach ===\")\n",
    "code_result = bridge_agent_code.run(task)\n",
    "print(f\"Result: {code_result}\")\n",
    "\n",
    "print(\"\\n\" + \"=\"*50 + \"\\n\")\n",
    "\n",
    "print(\"=== ToolCallingAgent Approach ===\")\n",
    "tool_result = bridge_agent_tool.run(task)\n",
    "print(f\"Result: {tool_result}\")"
   ]
  },
  {
   "cell_type": "markdown",
   "metadata": {},
   "source": [
    "## Part 5: Integration with the Triage System\n",
    "\n",
    "In a real bridge design system, our Bridge Reference Agent would work alongside other specialized agents. The **managed agents** pattern allows a manager agent to delegate tasks to specialized agents.\n",
    "\n",
    "Here's how to prepare our agent for integration:"
   ]
  },
  {
   "cell_type": "code",
   "execution_count": null,
   "metadata": {},
   "outputs": [],
   "source": [
    "# Create a specialized bridge reference agent with name and description\n",
    "# This makes it ready for use as a managed agent\n",
    "\n",
    "bridge_reference_agent = ToolCallingAgent(\n",
    "    tools=bridge_tools,\n",
    "    model=model,\n",
    "    name=\"bridge_reference_agent\",\n",
    "    description=\"Searches for information about existing bridges, their types, specifications, and engineering details. Use this when you need reference information about real bridges.\"\n",
    ")\n",
    "\n",
    "# Create a simple manager agent that can delegate to our bridge agent\n",
    "manager = CodeAgent(\n",
    "    tools=[],  # Manager doesn't need direct tools\n",
    "    model=model,\n",
    "    managed_agents=[bridge_reference_agent],\n",
    "    verbosity_level=2\n",
    ")\n",
    "\n",
    "print(\"Manager agent with bridge reference capability is ready!\")"
   ]
  },
  {
   "cell_type": "code",
   "execution_count": null,
   "metadata": {},
   "outputs": [],
   "source": [
    "# Test delegation - the manager will automatically use the bridge agent\n",
    "result = manager.run(\n",
    "    \"I'm designing a new suspension bridge. Can you find me information about \"\n",
    "    \"the top 3 longest suspension bridges in the world and their main specifications?\"\n",
    ")\n",
    "\n",
    "print(\"\\n=== FINAL RESULT ===\")\n",
    "print(result)"
   ]
  },
  {
   "cell_type": "markdown",
   "metadata": {},
   "source": [
    "### How This Fits Into the Bridge Design System\n",
    "\n",
    "In the full system, you have:\n",
    "1. **Triage Agent** (manager) - Coordinates all tasks\n",
    "2. **Geometry Agent** - Creates 3D models in Rhino/Grasshopper\n",
    "3. **Bridge Reference Agent** - Provides real-world examples (what we built!)\n",
    "4. *Future: Safety Agent* - Checks safety parameters\n",
    "5. *Future: Materials Agent* - Manages material selection\n",
    "\n",
    "The triage agent decides which specialist to consult based on the task."
   ]
  },
  {
   "cell_type": "code",
   "execution_count": null,
   "metadata": {},
   "outputs": [],
   "source": [
    "# Example of how it would work in the full system\n",
    "# (This is pseudocode for illustration)\n",
    "\n",
    "example_system_prompt = \"\"\"\n",
    "# In the actual bridge design system:\n",
    "\n",
    "user_request = \"Design a suspension bridge similar to the Golden Gate Bridge but for a 500m span\"\n",
    "\n",
    "# Triage agent would:\n",
    "1. Ask bridge_reference_agent: \"Get specifications of Golden Gate Bridge\"\n",
    "2. Ask geometry_agent: \"Create bridge with 500m span based on these specs: ...\"\n",
    "3. Coordinate between agents to refine the design\n",
    "\"\"\"\n",
    "\n",
    "print(example_system_prompt)"
   ]
  },
  {
   "cell_type": "markdown",
   "metadata": {},
   "source": [
    "## Part 6: Hands-on Exercises\n",
    "\n",
    "Now it's your turn! Try these exercises to deepen your understanding.\n",
    "\n",
    "### Exercise 1: Bridge Materials Tool\n",
    "\n",
    "Create a tool that searches for information about materials used in different bridge types."
   ]
  },
  {
   "cell_type": "code",
   "execution_count": null,
   "metadata": {},
   "outputs": [],
   "source": [
    "# Exercise 1: Create a bridge materials tool\n",
    "# TODO: Create a tool called 'search_bridge_materials' that:\n",
    "# - Takes a bridge_type parameter (e.g., \"suspension\", \"arch\")\n",
    "# - Optionally takes a specific material to focus on\n",
    "# - Returns information about materials commonly used in that bridge type\n",
    "\n",
    "# Your code here:\n",
    "\n",
    "\n",
    "\n",
    "# Test your tool:\n",
    "# result = search_bridge_materials(\"cable-stayed\")\n",
    "# print(result[:500])"
   ]
  },
  {
   "cell_type": "code",
   "execution_count": null,
   "metadata": {},
   "outputs": [],
   "source": [
    "# Solution (hidden - try yourself first!)\n",
    "\"\"\"\n",
    "@tool\n",
    "def search_bridge_materials(bridge_type: str, material_focus: str = \"\") -> str:\n",
    "    '''\n",
    "    Search for information about materials used in specific bridge types.\n",
    "    \n",
    "    Args:\n",
    "        bridge_type: Type of bridge (suspension, arch, beam, etc.)\n",
    "        material_focus: Optional specific material to focus on (steel, concrete, etc.)\n",
    "    '''\n",
    "    search = WebSearchTool()\n",
    "    \n",
    "    if material_focus:\n",
    "        query = f\"{bridge_type} bridge {material_focus} material properties usage\"\n",
    "    else:\n",
    "        query = f\"{bridge_type} bridge construction materials steel concrete composite\"\n",
    "    \n",
    "    return search(query)\n",
    "\n",
    "# Test\n",
    "result = search_bridge_materials(\"suspension\", \"steel cables\")\n",
    "print(result[:500])\n",
    "\"\"\""
   ]
  },
  {
   "cell_type": "markdown",
   "metadata": {},
   "source": [
    "### Exercise 2: Bridge History Timeline\n",
    "\n",
    "Create an agent that can find and organize historical information about bridges in chronological order."
   ]
  },
  {
   "cell_type": "code",
   "execution_count": null,
   "metadata": {},
   "outputs": [],
   "source": [
    "# Exercise 2: Create a bridge history agent\n",
    "# TODO: Create an agent that can:\n",
    "# - Search for historical information about multiple bridges\n",
    "# - Organize the information chronologically\n",
    "# - Present it in a timeline format\n",
    "\n",
    "# Hint: You might want to create a new tool for searching bridge history\n",
    "# and then use a CodeAgent to process and organize the results\n",
    "\n",
    "# Your code here:\n",
    "\n",
    "\n",
    "\n",
    "# Test your agent:\n",
    "# result = bridge_history_agent.run(\"Create a timeline of famous suspension bridges built in the 20th century\")\n",
    "# print(result)"
   ]
  },
  {
   "cell_type": "code",
   "execution_count": null,
   "metadata": {},
   "outputs": [],
   "source": [
    "# Solution (hidden - try yourself first!)\n",
    "\"\"\"\n",
    "@tool\n",
    "def search_bridge_history(bridge_name: str) -> str:\n",
    "    '''\n",
    "    Search for historical information about a bridge including construction dates.\n",
    "    \n",
    "    Args:\n",
    "        bridge_name: Name of the bridge\n",
    "    '''\n",
    "    search = WebSearchTool()\n",
    "    query = f\"{bridge_name} bridge construction date year built opened history timeline\"\n",
    "    return search(query)\n",
    "\n",
    "# Create an agent that can organize information chronologically\n",
    "bridge_history_agent = CodeAgent(\n",
    "    tools=[search_bridge_history, find_bridges_by_type],\n",
    "    model=model,\n",
    "    additional_authorized_imports=['datetime', 're'],\n",
    "    verbosity_level=1\n",
    ")\n",
    "\n",
    "# Test with a timeline request\n",
    "result = bridge_history_agent.run(\n",
    "    'Find information about 3 famous suspension bridges and organize them by construction date'\n",
    ")\n",
    "print(result)\n",
    "\"\"\""
   ]
  },
  {
   "cell_type": "markdown",
   "metadata": {},
   "source": [
    "## Summary and Next Steps\n",
    "\n",
    "Congratulations! You've learned:\n",
    "- ✅ The difference between CodeAgent and ToolCallingAgent\n",
    "- ✅ How to use built-in tools like WebSearchTool\n",
    "- ✅ How to create custom tools with the @tool decorator\n",
    "- ✅ How to build agents that can search for bridge information\n",
    "- ✅ How agents work together in a managed system\n",
    "\n",
    "### Next Steps for the Workshop\n",
    "\n",
    "1. **Experiment**: Try creating more specialized tools for your bridge domain\n",
    "2. **Explore**: Look at the geometry agent code to see how it integrates with CAD tools\n",
    "3. **Design**: Think about what other agents might be useful (structural analysis? cost estimation?)\n",
    "4. **Build**: Start working on your own specialized agent for the workshop project\n",
    "\n",
    "### Key Takeaways\n",
    "\n",
    "- **Tools** are the building blocks - they give agents capabilities\n",
    "- **CodeAgent** is powerful for complex reasoning and calculations\n",
    "- **ToolCallingAgent** is predictable and great for production use\n",
    "- **Managed agents** allow building complex multi-agent systems\n",
    "- Start simple, test often, and build up complexity gradually\n",
    "\n",
    "Happy building! 🌉"
   ]
  }
 ],
 "metadata": {
  "kernelspec": {
   "display_name": "Python 3",
   "language": "python",
   "name": "python3"
  },
  "language_info": {
   "codemirror_mode": {
    "name": "ipython",
    "version": 3
   },
   "file_extension": ".py",
   "mimetype": "text/x-python",
   "name": "python",
   "nbconvert_exporter": "python",
   "pygments_lexer": "ipython3",
   "version": "3.10.0"
  }
 },
 "nbformat": 4,
 "nbformat_minor": 4
}